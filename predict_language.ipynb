{
  "nbformat": 4,
  "nbformat_minor": 0,
  "metadata": {
    "colab": {
      "name": "predict_language.ipynb",
      "version": "0.3.2",
      "provenance": [],
      "collapsed_sections": [],
      "include_colab_link": true
    },
    "kernelspec": {
      "name": "python3",
      "display_name": "Python 3"
    }
  },
  "cells": [
    {
      "cell_type": "markdown",
      "metadata": {
        "id": "view-in-github",
        "colab_type": "text"
      },
      "source": [
        "<a href=\"https://colab.research.google.com/github/adityaRakhecha/language/blob/master/predict_language.ipynb\" target=\"_parent\"><img src=\"https://colab.research.google.com/assets/colab-badge.svg\" alt=\"Open In Colab\"/></a>"
      ]
    },
    {
      "cell_type": "code",
      "metadata": {
        "id": "Z_99BL3TejRV",
        "colab_type": "code",
        "colab": {}
      },
      "source": [
        "# import necessary packages\n",
        "import pandas as pd \n",
        "import numpy as np\n",
        "\n",
        "import re\n",
        "import time"
      ],
      "execution_count": 0,
      "outputs": []
    },
    {
      "cell_type": "markdown",
      "metadata": {
        "id": "Njsg86K5Ax7I",
        "colab_type": "text"
      },
      "source": [
        "**Data Preparation**"
      ]
    },
    {
      "cell_type": "code",
      "metadata": {
        "id": "sT0ntZ5efFu5",
        "colab_type": "code",
        "colab": {}
      },
      "source": [
        "# load data\n",
        "def load_data():\n",
        "    file_name = './sampleCode.txt' # input code file\n",
        "    data = open(file_name, 'r')\n",
        "    lines = data.readlines()\n",
        "    return lines\n",
        "\n",
        "# clean data\n",
        "def clean_data(input_code):\n",
        "  \n",
        "    #find all the code within the pre tags\n",
        "    all_found = re.findall(r'<pre[\\s\\S]*?<\\/pre>', input_code, re.MULTILINE)\n",
        "    #print(all_found)\n",
        "    \n",
        "    #clean the unnecessary tags\n",
        "    clean_string = lambda x: x.replace('&lt;', '<').replace('&gt;', '>').replace('</pre>', '').replace('\\n', '')\n",
        "    all_found = [clean_string(item) for item in all_found]\n",
        "    #print(all_found)\n",
        "    \n",
        "    #get the language \n",
        "    get_language = lambda x: re.findall(r'<pre lang=\"(.*?)\">', x, re.MULTILINE)[0]\n",
        "    lang_items = [get_language(item) for item in all_found]\n",
        "    #print(all_found)\n",
        "    #print(lang_items)\n",
        "    \n",
        "    #remove all of the pre tags that contain the language\n",
        "    remove_lang = lambda x: re.sub(r'<pre lang=\"(.*?)\">', \"\", x)\n",
        "    all_found = [remove_lang(item) for item in all_found]\n",
        "    #print(all_found)\n",
        "    \n",
        "    #return the code between pre tags and their corresponding language\n",
        "    return (all_found, lang_items) "
      ],
      "execution_count": 0,
      "outputs": []
    },
    {
      "cell_type": "code",
      "metadata": {
        "id": "finL4xfNfwWo",
        "colab_type": "code",
        "colab": {}
      },
      "source": [
        "all_samples = ''.join(load_data())\n",
        "cleaned_data, languages = clean_data(all_samples)\n",
        "\n",
        "df = pd.DataFrame()\n",
        "df['language'] = languages\n",
        "df['data'] = cleaned_data"
      ],
      "execution_count": 0,
      "outputs": []
    },
    {
      "cell_type": "code",
      "metadata": {
        "id": "pcolHbmwgD8Z",
        "colab_type": "code",
        "outputId": "fcb99a8c-9578-4b4f-b8d2-245cbe9876af",
        "colab": {
          "base_uri": "https://localhost:8080/",
          "height": 175
        }
      },
      "source": [
        "df.head()"
      ],
      "execution_count": 4,
      "outputs": [
        {
          "output_type": "execute_result",
          "data": {
            "text/html": [
              "<div>\n",
              "<style scoped>\n",
              "    .dataframe tbody tr th:only-of-type {\n",
              "        vertical-align: middle;\n",
              "    }\n",
              "\n",
              "    .dataframe tbody tr th {\n",
              "        vertical-align: top;\n",
              "    }\n",
              "\n",
              "    .dataframe thead th {\n",
              "        text-align: right;\n",
              "    }\n",
              "</style>\n",
              "<table border=\"1\" class=\"dataframe\">\n",
              "  <thead>\n",
              "    <tr style=\"text-align: right;\">\n",
              "      <th></th>\n",
              "      <th>language</th>\n",
              "      <th>data</th>\n",
              "    </tr>\n",
              "  </thead>\n",
              "  <tbody>\n",
              "    <tr>\n",
              "      <th>0</th>\n",
              "      <td>cpp</td>\n",
              "      <td>#include &lt;iostream&gt;  using namespace std;  i...</td>\n",
              "    </tr>\n",
              "    <tr>\n",
              "      <th>1</th>\n",
              "      <td>Swift</td>\n",
              "      <td>@objc func handleTap(sender: UITapGestureRecog...</td>\n",
              "    </tr>\n",
              "    <tr>\n",
              "      <th>2</th>\n",
              "      <td>Java</td>\n",
              "      <td>import java.applet.*;import java.awt.*;public ...</td>\n",
              "    </tr>\n",
              "    <tr>\n",
              "      <th>3</th>\n",
              "      <td>JavaScript</td>\n",
              "      <td>var my_dataset = [   {       id: \"1\",       te...</td>\n",
              "    </tr>\n",
              "  </tbody>\n",
              "</table>\n",
              "</div>"
            ],
            "text/plain": [
              "     language                                               data\n",
              "0         cpp    #include <iostream>  using namespace std;  i...\n",
              "1       Swift  @objc func handleTap(sender: UITapGestureRecog...\n",
              "2        Java  import java.applet.*;import java.awt.*;public ...\n",
              "3  JavaScript  var my_dataset = [   {       id: \"1\",       te..."
            ]
          },
          "metadata": {
            "tags": []
          },
          "execution_count": 4
        }
      ]
    },
    {
      "cell_type": "code",
      "metadata": {
        "id": "4LI6UO4T-gPL",
        "colab_type": "code",
        "colab": {}
      },
      "source": [
        ""
      ],
      "execution_count": 0,
      "outputs": []
    },
    {
      "cell_type": "code",
      "metadata": {
        "id": "m5Jn8AQsgIwH",
        "colab_type": "code",
        "colab": {}
      },
      "source": [
        ""
      ],
      "execution_count": 0,
      "outputs": []
    }
  ]
}