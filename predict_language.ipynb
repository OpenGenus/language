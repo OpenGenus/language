{
  "nbformat": 4,
  "nbformat_minor": 0,
  "metadata": {
    "colab": {
      "name": "predict_language.ipynb",
      "version": "0.3.2",
      "provenance": [],
      "collapsed_sections": []
    },
    "kernelspec": {
      "name": "python3",
      "display_name": "Python 3"
    }
  },
  "cells": [
    {
      "cell_type": "code",
      "metadata": {
        "id": "Z_99BL3TejRV",
        "colab_type": "code",
        "colab": {}
      },
      "source": [
        "# import necessary packages\n",
        "import pandas as pd \n",
        "import numpy as np\n",
        "\n",
        "from sklearn.preprocessing import LabelEncoder\n",
        "\n",
        "import re\n",
        "import time\n",
        "\n",
        "from sklearn.feature_extraction.text import TfidfVectorizer\n",
        "from sklearn.linear_model.logistic import LogisticRegression\n",
        "from sklearn.ensemble import RandomForestClassifier\n",
        "from sklearn.svm import LinearSVC\n",
        "from sklearn.tree import DecisionTreeClassifier\n",
        "from sklearn.naive_bayes import MultinomialNB\n",
        "from sklearn.model_selection import train_test_split, cross_val_score\n",
        "from sklearn.utils import shuffle\n",
        "from sklearn.metrics import precision_score, classification_report, accuracy_score\n",
        "from sklearn.pipeline import FeatureUnion"
      ],
      "execution_count": 0,
      "outputs": []
    },
    {
      "cell_type": "markdown",
      "metadata": {
        "id": "Njsg86K5Ax7I",
        "colab_type": "text"
      },
      "source": [
        "**Data Preparation**"
      ]
    },
    {
      "cell_type": "code",
      "metadata": {
        "id": "sT0ntZ5efFu5",
        "colab_type": "code",
        "colab": {}
      },
      "source": [
        "# load data\n",
        "def load_data():\n",
        "    file_name = './sampleCode.txt' # input code file\n",
        "    data = open(file_name, 'r')\n",
        "    lines = data.readlines()\n",
        "    return lines\n",
        "\n",
        "# clean data\n",
        "def clean_data(input_code):\n",
        "  \n",
        "    #find all the code within the pre tags\n",
        "    all_found = re.findall(r'<pre[\\s\\S]*?<\\/pre>', input_code, re.MULTILINE)\n",
        "    #print(all_found)\n",
        "    \n",
        "    #clean the unnecessary tags\n",
        "    clean_string = lambda x: x.replace('&lt;', '<').replace('&gt;', '>').replace('</pre>', '').replace('\\n', '')\n",
        "    all_found = [clean_string(item) for item in all_found]\n",
        "    #print(all_found)\n",
        "    \n",
        "    #get the language \n",
        "    get_language = lambda x: re.findall(r'<pre lang=\"(.*?)\">', x, re.MULTILINE)[0]\n",
        "    lang_items = [get_language(item) for item in all_found]\n",
        "    #print(all_found)\n",
        "    #print(lang_items)\n",
        "    \n",
        "    #remove all of the pre tags that contain the language\n",
        "    remove_lang = lambda x: re.sub(r'<pre lang=\"(.*?)\">', \"\", x)\n",
        "    all_found = [remove_lang(item) for item in all_found]\n",
        "    #print(all_found)\n",
        "    \n",
        "    #return the code between pre tags and their corresponding language\n",
        "    return (all_found, lang_items) "
      ],
      "execution_count": 0,
      "outputs": []
    },
    {
      "cell_type": "code",
      "metadata": {
        "id": "finL4xfNfwWo",
        "colab_type": "code",
        "colab": {}
      },
      "source": [
        "all_samples = ''.join(load_data())\n",
        "cleaned_data, languages = clean_data(all_samples)\n",
        "\n",
        "df = pd.DataFrame()\n",
        "df['language'] = languages\n",
        "df['data'] = cleaned_data"
      ],
      "execution_count": 0,
      "outputs": []
    },
    {
      "cell_type": "code",
      "metadata": {
        "id": "pcolHbmwgD8Z",
        "colab_type": "code",
        "outputId": "15bacbdb-4ef4-4b6b-f210-752bac030daa",
        "colab": {
          "base_uri": "https://localhost:8080/",
          "height": 457
        }
      },
      "source": [
        "df"
      ],
      "execution_count": 0,
      "outputs": [
        {
          "output_type": "execute_result",
          "data": {
            "text/html": [
              "<div>\n",
              "<style scoped>\n",
              "    .dataframe tbody tr th:only-of-type {\n",
              "        vertical-align: middle;\n",
              "    }\n",
              "\n",
              "    .dataframe tbody tr th {\n",
              "        vertical-align: top;\n",
              "    }\n",
              "\n",
              "    .dataframe thead th {\n",
              "        text-align: right;\n",
              "    }\n",
              "</style>\n",
              "<table border=\"1\" class=\"dataframe\">\n",
              "  <thead>\n",
              "    <tr style=\"text-align: right;\">\n",
              "      <th></th>\n",
              "      <th>language</th>\n",
              "      <th>data</th>\n",
              "    </tr>\n",
              "  </thead>\n",
              "  <tbody>\n",
              "    <tr>\n",
              "      <th>0</th>\n",
              "      <td>cpp</td>\n",
              "      <td>#include &lt;iostream&gt;  using namespace std;  i...</td>\n",
              "    </tr>\n",
              "    <tr>\n",
              "      <th>1</th>\n",
              "      <td>Swift</td>\n",
              "      <td>@objc func handleTap(sender: UITapGestureRecog...</td>\n",
              "    </tr>\n",
              "    <tr>\n",
              "      <th>2</th>\n",
              "      <td>Java</td>\n",
              "      <td>import java.applet.*;import java.awt.*;public ...</td>\n",
              "    </tr>\n",
              "    <tr>\n",
              "      <th>3</th>\n",
              "      <td>JavaScript</td>\n",
              "      <td>var my_dataset = [   {       id: \"1\",       te...</td>\n",
              "    </tr>\n",
              "    <tr>\n",
              "      <th>4</th>\n",
              "      <td>cpp</td>\n",
              "      <td>#include &lt;iostream&gt;         using namespac...</td>\n",
              "    </tr>\n",
              "    <tr>\n",
              "      <th>5</th>\n",
              "      <td>Java</td>\n",
              "      <td>class Integers {      public static void m...</td>\n",
              "    </tr>\n",
              "    <tr>\n",
              "      <th>6</th>\n",
              "      <td>JavaScript</td>\n",
              "      <td>function myFunction() {  var str = \"Hello Code...</td>\n",
              "    </tr>\n",
              "    <tr>\n",
              "      <th>7</th>\n",
              "      <td>JavaScript</td>\n",
              "      <td>function palin(){var a,no,b,temp=0;no=Number(d...</td>\n",
              "    </tr>\n",
              "    <tr>\n",
              "      <th>8</th>\n",
              "      <td>Java</td>\n",
              "      <td>class Condition {      public static void ...</td>\n",
              "    </tr>\n",
              "    <tr>\n",
              "      <th>9</th>\n",
              "      <td>cpp</td>\n",
              "      <td>#include &lt;iostream&gt;         using namespac...</td>\n",
              "    </tr>\n",
              "    <tr>\n",
              "      <th>10</th>\n",
              "      <td>Swift</td>\n",
              "      <td>import UIKit@IBDesignable public class CheckBo...</td>\n",
              "    </tr>\n",
              "    <tr>\n",
              "      <th>11</th>\n",
              "      <td>JavaScript</td>\n",
              "      <td>function add(){var a,b,c;a=Number(document.get...</td>\n",
              "    </tr>\n",
              "    <tr>\n",
              "      <th>12</th>\n",
              "      <td>Swift</td>\n",
              "      <td>import Listerimport ListerKitimport UIKitimpor...</td>\n",
              "    </tr>\n",
              "  </tbody>\n",
              "</table>\n",
              "</div>"
            ],
            "text/plain": [
              "      language                                               data\n",
              "0          cpp    #include <iostream>  using namespace std;  i...\n",
              "1        Swift  @objc func handleTap(sender: UITapGestureRecog...\n",
              "2         Java  import java.applet.*;import java.awt.*;public ...\n",
              "3   JavaScript  var my_dataset = [   {       id: \"1\",       te...\n",
              "4          cpp      #include <iostream>         using namespac...\n",
              "5         Java      class Integers {      public static void m...\n",
              "6   JavaScript  function myFunction() {  var str = \"Hello Code...\n",
              "7   JavaScript  function palin(){var a,no,b,temp=0;no=Number(d...\n",
              "8         Java      class Condition {      public static void ...\n",
              "9          cpp      #include <iostream>         using namespac...\n",
              "10       Swift  import UIKit@IBDesignable public class CheckBo...\n",
              "11  JavaScript  function add(){var a,b,c;a=Number(document.get...\n",
              "12       Swift  import Listerimport ListerKitimport UIKitimpor..."
            ]
          },
          "metadata": {
            "tags": []
          },
          "execution_count": 32
        }
      ]
    },
    {
      "cell_type": "code",
      "metadata": {
        "id": "4LI6UO4T-gPL",
        "colab_type": "code",
        "colab": {}
      },
      "source": [
        "label_enc = LabelEncoder()\n",
        "df['language_label'] = label_enc.fit_transform(df['language'])"
      ],
      "execution_count": 0,
      "outputs": []
    },
    {
      "cell_type": "code",
      "metadata": {
        "id": "m5Jn8AQsgIwH",
        "colab_type": "code",
        "outputId": "d64a2180-c871-441e-a6fd-b689a8148315",
        "colab": {
          "base_uri": "https://localhost:8080/",
          "height": 206
        }
      },
      "source": [
        "df.head()"
      ],
      "execution_count": 0,
      "outputs": [
        {
          "output_type": "execute_result",
          "data": {
            "text/html": [
              "<div>\n",
              "<style scoped>\n",
              "    .dataframe tbody tr th:only-of-type {\n",
              "        vertical-align: middle;\n",
              "    }\n",
              "\n",
              "    .dataframe tbody tr th {\n",
              "        vertical-align: top;\n",
              "    }\n",
              "\n",
              "    .dataframe thead th {\n",
              "        text-align: right;\n",
              "    }\n",
              "</style>\n",
              "<table border=\"1\" class=\"dataframe\">\n",
              "  <thead>\n",
              "    <tr style=\"text-align: right;\">\n",
              "      <th></th>\n",
              "      <th>language</th>\n",
              "      <th>data</th>\n",
              "      <th>language_label</th>\n",
              "    </tr>\n",
              "  </thead>\n",
              "  <tbody>\n",
              "    <tr>\n",
              "      <th>0</th>\n",
              "      <td>cpp</td>\n",
              "      <td>#include &lt;iostream&gt;  using namespace std;  i...</td>\n",
              "      <td>3</td>\n",
              "    </tr>\n",
              "    <tr>\n",
              "      <th>1</th>\n",
              "      <td>Swift</td>\n",
              "      <td>@objc func handleTap(sender: UITapGestureRecog...</td>\n",
              "      <td>2</td>\n",
              "    </tr>\n",
              "    <tr>\n",
              "      <th>2</th>\n",
              "      <td>Java</td>\n",
              "      <td>import java.applet.*;import java.awt.*;public ...</td>\n",
              "      <td>0</td>\n",
              "    </tr>\n",
              "    <tr>\n",
              "      <th>3</th>\n",
              "      <td>JavaScript</td>\n",
              "      <td>var my_dataset = [   {       id: \"1\",       te...</td>\n",
              "      <td>1</td>\n",
              "    </tr>\n",
              "    <tr>\n",
              "      <th>4</th>\n",
              "      <td>cpp</td>\n",
              "      <td>#include &lt;iostream&gt;         using namespac...</td>\n",
              "      <td>3</td>\n",
              "    </tr>\n",
              "  </tbody>\n",
              "</table>\n",
              "</div>"
            ],
            "text/plain": [
              "     language  ... language_label\n",
              "0         cpp  ...              3\n",
              "1       Swift  ...              2\n",
              "2        Java  ...              0\n",
              "3  JavaScript  ...              1\n",
              "4         cpp  ...              3\n",
              "\n",
              "[5 rows x 3 columns]"
            ]
          },
          "metadata": {
            "tags": []
          },
          "execution_count": 34
        }
      ]
    },
    {
      "cell_type": "code",
      "metadata": {
        "id": "6DswnkopBqYL",
        "colab_type": "code",
        "outputId": "6f5718d8-97c6-4c95-b28c-097cb75d6204",
        "colab": {
          "base_uri": "https://localhost:8080/",
          "height": 35
        }
      },
      "source": [
        "label_enc.classes_"
      ],
      "execution_count": 0,
      "outputs": [
        {
          "output_type": "execute_result",
          "data": {
            "text/plain": [
              "array(['Java', 'JavaScript', 'Swift', 'cpp'], dtype=object)"
            ]
          },
          "metadata": {
            "tags": []
          },
          "execution_count": 35
        }
      ]
    },
    {
      "cell_type": "code",
      "metadata": {
        "id": "VkqZY-dxBxeA",
        "colab_type": "code",
        "colab": {}
      },
      "source": [
        "#create models\n",
        "def create_models():\n",
        "    models = {}\n",
        "    models['LinearSVC'] = LinearSVC()\n",
        "    models['LogisticRegression'] = LogisticRegression()\n",
        "    models['RandomForestClassifier'] = RandomForestClassifier()\n",
        "    models['DecisionTreeClassifier'] = DecisionTreeClassifier()\n",
        "    models['MultinomialNB'] = MultinomialNB()\n",
        "    return models"
      ],
      "execution_count": 0,
      "outputs": []
    },
    {
      "cell_type": "code",
      "metadata": {
        "id": "x3VVs6Mt1tOS",
        "colab_type": "code",
        "colab": {}
      },
      "source": [
        "# shuffle and split dataset\n",
        "X_input, y_input = shuffle(df['data'], df['language_label'], random_state=7)\n",
        "\n",
        "X_train, X_test, y_train, y_test = train_test_split(X_input, y_input, test_size=0.7)"
      ],
      "execution_count": 0,
      "outputs": []
    },
    {
      "cell_type": "code",
      "metadata": {
        "id": "9FWfm4ZK3dM9",
        "colab_type": "code",
        "colab": {}
      },
      "source": [
        "# function to calculate accuracy\n",
        "def calculate_accuracy(actual_y, predicted_y, model_name, train_time, predict_time):\n",
        "    print('Model Name: ' + model_name)\n",
        "    print('Train time: ', round(train_time, 2))\n",
        "    print('Predict time: ', round(predict_time, 2))\n",
        "    print('Model Accuracy: {:.4f}'.format(accuracy_score(actual_y, predicted_y)))\n",
        "    print('')\n",
        "    print(classification_report(actual_y, predicted_y, digits=4))\n",
        "    print(\"=======================================================\")"
      ],
      "execution_count": 0,
      "outputs": []
    },
    {
      "cell_type": "code",
      "metadata": {
        "id": "sJ2M3VmB1444",
        "colab_type": "code",
        "colab": {}
      },
      "source": [
        "\n",
        "def test_models(X_train, y_train, X_test, y_test, models):\n",
        "\n",
        "    trained_models = {}\n",
        "    \n",
        "    vectorizer = FeatureUnion([('tfidf_vect', TfidfVectorizer())])\n",
        "    \n",
        "    X_train = vectorizer.fit_transform(X_train)\n",
        "    X_test = vectorizer.transform(X_test)\n",
        "    \n",
        "    for key in models:\n",
        "        model_name = key\n",
        "        model = models[key]\n",
        "        t1 = time.time()\n",
        "        model.fit(X_train, y_train)\n",
        "        t2 = time.time()\n",
        "        predicted_y = model.predict(X_test)\n",
        "        t3 = time.time()\n",
        "        \n",
        "        calculate_accuracy(y_test, predicted_y, model_name, t2 - t1, t3 - t2)        \n",
        "        trained_models[model_name] = model\n",
        "        \n",
        "    return (trained_models, vectorizer)"
      ],
      "execution_count": 0,
      "outputs": []
    },
    {
      "cell_type": "code",
      "metadata": {
        "id": "vlHbipx43qKS",
        "colab_type": "code",
        "outputId": "a2feeae1-23fd-4f7f-af34-84e32f3924e0",
        "colab": {
          "base_uri": "https://localhost:8080/",
          "height": 1000
        }
      },
      "source": [
        "models = create_models()\n",
        "trained_models, fitted_vectorizer = test_models(X_train, y_train, X_test, y_test, models)"
      ],
      "execution_count": 0,
      "outputs": [
        {
          "output_type": "stream",
          "text": [
            "Model Name: LinearSVC\n",
            "Train time:  0.0\n",
            "Predict time:  0.0\n",
            "Model Accuracy: 0.3000\n",
            "\n",
            "              precision    recall  f1-score   support\n",
            "\n",
            "           0     0.1429    1.0000    0.2500         1\n",
            "           1     0.0000    0.0000    0.0000         4\n",
            "           2     0.0000    0.0000    0.0000         3\n",
            "           3     0.6667    1.0000    0.8000         2\n",
            "\n",
            "    accuracy                         0.3000        10\n",
            "   macro avg     0.2024    0.5000    0.2625        10\n",
            "weighted avg     0.1476    0.3000    0.1850        10\n",
            "\n",
            "=======================================================\n",
            "Model Name: LogisticRegression\n",
            "Train time:  0.0\n",
            "Predict time:  0.0\n",
            "Model Accuracy: 0.2000\n",
            "\n",
            "              precision    recall  f1-score   support\n",
            "\n",
            "           0     0.1111    1.0000    0.2000         1\n",
            "           1     0.0000    0.0000    0.0000         4\n",
            "           2     0.0000    0.0000    0.0000         3\n",
            "           3     1.0000    0.5000    0.6667         2\n",
            "\n",
            "    accuracy                         0.2000        10\n",
            "   macro avg     0.2778    0.3750    0.2167        10\n",
            "weighted avg     0.2111    0.2000    0.1533        10\n",
            "\n",
            "=======================================================\n",
            "Model Name: RandomForestClassifier\n",
            "Train time:  0.01\n",
            "Predict time:  0.0\n",
            "Model Accuracy: 0.2000\n",
            "\n",
            "              precision    recall  f1-score   support\n",
            "\n",
            "           0     0.3333    1.0000    0.5000         1\n",
            "           1     0.0000    0.0000    0.0000         4\n",
            "           2     0.0000    0.0000    0.0000         3\n",
            "           3     0.1429    0.5000    0.2222         2\n",
            "\n",
            "    accuracy                         0.2000        10\n",
            "   macro avg     0.1190    0.3750    0.1806        10\n",
            "weighted avg     0.0619    0.2000    0.0944        10\n",
            "\n",
            "=======================================================\n",
            "Model Name: DecisionTreeClassifier\n",
            "Train time:  0.0\n",
            "Predict time:  0.0\n",
            "Model Accuracy: 0.3000\n",
            "\n",
            "              precision    recall  f1-score   support\n",
            "\n",
            "           0     0.1250    1.0000    0.2222         1\n",
            "           1     0.0000    0.0000    0.0000         4\n",
            "           2     0.0000    0.0000    0.0000         3\n",
            "           3     1.0000    1.0000    1.0000         2\n",
            "\n",
            "    accuracy                         0.3000        10\n",
            "   macro avg     0.2812    0.5000    0.3056        10\n",
            "weighted avg     0.2125    0.3000    0.2222        10\n",
            "\n",
            "=======================================================\n",
            "Model Name: MultinomialNB\n",
            "Train time:  0.0\n",
            "Predict time:  0.0\n",
            "Model Accuracy: 0.2000\n",
            "\n",
            "              precision    recall  f1-score   support\n",
            "\n",
            "           0     0.1111    1.0000    0.2000         1\n",
            "           1     0.0000    0.0000    0.0000         4\n",
            "           2     0.0000    0.0000    0.0000         3\n",
            "           3     1.0000    0.5000    0.6667         2\n",
            "\n",
            "    accuracy                         0.2000        10\n",
            "   macro avg     0.2778    0.3750    0.2167        10\n",
            "weighted avg     0.2111    0.2000    0.1533        10\n",
            "\n",
            "=======================================================\n"
          ],
          "name": "stdout"
        },
        {
          "output_type": "stream",
          "text": [
            "/usr/local/lib/python3.6/dist-packages/sklearn/metrics/classification.py:1437: UndefinedMetricWarning: Precision and F-score are ill-defined and being set to 0.0 in labels with no predicted samples.\n",
            "  'precision', 'predicted', average, warn_for)\n",
            "/usr/local/lib/python3.6/dist-packages/sklearn/linear_model/logistic.py:432: FutureWarning: Default solver will be changed to 'lbfgs' in 0.22. Specify a solver to silence this warning.\n",
            "  FutureWarning)\n",
            "/usr/local/lib/python3.6/dist-packages/sklearn/ensemble/forest.py:245: FutureWarning: The default value of n_estimators will change from 10 in version 0.20 to 100 in 0.22.\n",
            "  \"10 in version 0.20 to 100 in 0.22.\", FutureWarning)\n",
            "/usr/local/lib/python3.6/dist-packages/sklearn/metrics/classification.py:1437: UndefinedMetricWarning: Precision and F-score are ill-defined and being set to 0.0 in labels with no predicted samples.\n",
            "  'precision', 'predicted', average, warn_for)\n",
            "/usr/local/lib/python3.6/dist-packages/sklearn/metrics/classification.py:1437: UndefinedMetricWarning: Precision and F-score are ill-defined and being set to 0.0 in labels with no predicted samples.\n",
            "  'precision', 'predicted', average, warn_for)\n",
            "/usr/local/lib/python3.6/dist-packages/sklearn/metrics/classification.py:1437: UndefinedMetricWarning: Precision and F-score are ill-defined and being set to 0.0 in labels with no predicted samples.\n",
            "  'precision', 'predicted', average, warn_for)\n"
          ],
          "name": "stderr"
        }
      ]
    },
    {
      "cell_type": "code",
      "metadata": {
        "id": "oqJQwseC30JN",
        "colab_type": "code",
        "colab": {}
      },
      "source": [
        ""
      ],
      "execution_count": 0,
      "outputs": []
    }
  ]
}